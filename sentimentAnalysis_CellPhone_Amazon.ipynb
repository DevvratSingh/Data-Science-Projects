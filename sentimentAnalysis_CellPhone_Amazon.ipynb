{
 "cells": [
  {
   "cell_type": "code",
   "execution_count": 1,
   "metadata": {},
   "outputs": [
    {
     "name": "stderr",
     "output_type": "stream",
     "text": [
      "/home/devvrat/anaconda3/lib/python3.6/site-packages/sklearn/cross_validation.py:41: DeprecationWarning: This module was deprecated in version 0.18 in favor of the model_selection module into which all the refactored classes and functions are moved. Also note that the interface of the new CV iterators are different from that of this module. This module will be removed in 0.20.\n",
      "  \"This module will be removed in 0.20.\", DeprecationWarning)\n",
      "/home/devvrat/anaconda3/lib/python3.6/site-packages/sklearn/grid_search.py:42: DeprecationWarning: This module was deprecated in version 0.18 in favor of the model_selection module into which all the refactored classes and functions are moved. This module will be removed in 0.20.\n",
      "  DeprecationWarning)\n",
      "/home/devvrat/anaconda3/lib/python3.6/site-packages/pandas_profiling/plot.py:15: UserWarning: \n",
      "This call to matplotlib.use() has no effect because the backend has already\n",
      "been chosen; matplotlib.use() must be called *before* pylab, matplotlib.pyplot,\n",
      "or matplotlib.backends is imported for the first time.\n",
      "\n",
      "The backend was *originally* set to 'module://ipykernel.pylab.backend_inline' by the following code:\n",
      "  File \"/home/devvrat/anaconda3/lib/python3.6/runpy.py\", line 193, in _run_module_as_main\n",
      "    \"__main__\", mod_spec)\n",
      "  File \"/home/devvrat/anaconda3/lib/python3.6/runpy.py\", line 85, in _run_code\n",
      "    exec(code, run_globals)\n",
      "  File \"/home/devvrat/anaconda3/lib/python3.6/site-packages/ipykernel_launcher.py\", line 16, in <module>\n",
      "    app.launch_new_instance()\n",
      "  File \"/home/devvrat/anaconda3/lib/python3.6/site-packages/traitlets/config/application.py\", line 658, in launch_instance\n",
      "    app.start()\n",
      "  File \"/home/devvrat/anaconda3/lib/python3.6/site-packages/ipykernel/kernelapp.py\", line 486, in start\n",
      "    self.io_loop.start()\n",
      "  File \"/home/devvrat/anaconda3/lib/python3.6/site-packages/tornado/platform/asyncio.py\", line 127, in start\n",
      "    self.asyncio_loop.run_forever()\n",
      "  File \"/home/devvrat/anaconda3/lib/python3.6/asyncio/base_events.py\", line 422, in run_forever\n",
      "    self._run_once()\n",
      "  File \"/home/devvrat/anaconda3/lib/python3.6/asyncio/base_events.py\", line 1432, in _run_once\n",
      "    handle._run()\n",
      "  File \"/home/devvrat/anaconda3/lib/python3.6/asyncio/events.py\", line 145, in _run\n",
      "    self._callback(*self._args)\n",
      "  File \"/home/devvrat/anaconda3/lib/python3.6/site-packages/tornado/platform/asyncio.py\", line 117, in _handle_events\n",
      "    handler_func(fileobj, events)\n",
      "  File \"/home/devvrat/anaconda3/lib/python3.6/site-packages/tornado/stack_context.py\", line 276, in null_wrapper\n",
      "    return fn(*args, **kwargs)\n",
      "  File \"/home/devvrat/anaconda3/lib/python3.6/site-packages/zmq/eventloop/zmqstream.py\", line 450, in _handle_events\n",
      "    self._handle_recv()\n",
      "  File \"/home/devvrat/anaconda3/lib/python3.6/site-packages/zmq/eventloop/zmqstream.py\", line 480, in _handle_recv\n",
      "    self._run_callback(callback, msg)\n",
      "  File \"/home/devvrat/anaconda3/lib/python3.6/site-packages/zmq/eventloop/zmqstream.py\", line 432, in _run_callback\n",
      "    callback(*args, **kwargs)\n",
      "  File \"/home/devvrat/anaconda3/lib/python3.6/site-packages/tornado/stack_context.py\", line 276, in null_wrapper\n",
      "    return fn(*args, **kwargs)\n",
      "  File \"/home/devvrat/anaconda3/lib/python3.6/site-packages/ipykernel/kernelbase.py\", line 283, in dispatcher\n",
      "    return self.dispatch_shell(stream, msg)\n",
      "  File \"/home/devvrat/anaconda3/lib/python3.6/site-packages/ipykernel/kernelbase.py\", line 233, in dispatch_shell\n",
      "    handler(stream, idents, msg)\n",
      "  File \"/home/devvrat/anaconda3/lib/python3.6/site-packages/ipykernel/kernelbase.py\", line 399, in execute_request\n",
      "    user_expressions, allow_stdin)\n",
      "  File \"/home/devvrat/anaconda3/lib/python3.6/site-packages/ipykernel/ipkernel.py\", line 208, in do_execute\n",
      "    res = shell.run_cell(code, store_history=store_history, silent=silent)\n",
      "  File \"/home/devvrat/anaconda3/lib/python3.6/site-packages/ipykernel/zmqshell.py\", line 537, in run_cell\n",
      "    return super(ZMQInteractiveShell, self).run_cell(*args, **kwargs)\n",
      "  File \"/home/devvrat/anaconda3/lib/python3.6/site-packages/IPython/core/interactiveshell.py\", line 2662, in run_cell\n",
      "    raw_cell, store_history, silent, shell_futures)\n",
      "  File \"/home/devvrat/anaconda3/lib/python3.6/site-packages/IPython/core/interactiveshell.py\", line 2785, in _run_cell\n",
      "    interactivity=interactivity, compiler=compiler, result=result)\n",
      "  File \"/home/devvrat/anaconda3/lib/python3.6/site-packages/IPython/core/interactiveshell.py\", line 2903, in run_ast_nodes\n",
      "    if self.run_code(code, result):\n",
      "  File \"/home/devvrat/anaconda3/lib/python3.6/site-packages/IPython/core/interactiveshell.py\", line 2963, in run_code\n",
      "    exec(code_obj, self.user_global_ns, self.user_ns)\n",
      "  File \"<ipython-input-1-295dcce41b36>\", line 9, in <module>\n",
      "    import matplotlib.pyplot as plt\n",
      "  File \"/home/devvrat/anaconda3/lib/python3.6/site-packages/matplotlib/pyplot.py\", line 71, in <module>\n",
      "    from matplotlib.backends import pylab_setup\n",
      "  File \"/home/devvrat/anaconda3/lib/python3.6/site-packages/matplotlib/backends/__init__.py\", line 16, in <module>\n",
      "    line for line in traceback.format_stack()\n",
      "\n",
      "\n",
      "  matplotlib.use(BACKEND)\n"
     ]
    }
   ],
   "source": [
    "#import libraries \n",
    "\n",
    "import sqlite3\n",
    "import pandas as pd\n",
    "import numpy as np\n",
    "import nltk\n",
    "import string\n",
    "import re \n",
    "import matplotlib.pyplot as plt \n",
    "import seaborn as sns\n",
    "\n",
    "from nltk.corpus import stopwords\n",
    "from nltk.stem import PorterStemmer \n",
    "from nltk.stem.wordnet import WordNetLemmatizer \n",
    "from nltk.tokenize import word_tokenize\n",
    "\n",
    "from sklearn.feature_extraction.text import TfidfTransformer\n",
    "from sklearn.feature_extraction.text import TfidfVectorizer\n",
    "from sklearn.feature_extraction.text import CountVectorizer\n",
    "\n",
    "from sklearn.cross_validation import train_test_split, cross_val_score, cross_val_predict\n",
    "from sklearn.model_selection import StratifiedKFold, KFold, GridSearchCV\n",
    "\n",
    "from sklearn import naive_bayes\n",
    "from sklearn import svm, grid_search\n",
    "from sklearn.linear_model import LogisticRegression\n",
    "\n",
    "from sklearn import metrics\n",
    "from sklearn.metrics import f1_score\n",
    "from sklearn.metrics import confusion_matrix, precision_recall_curve, precision_score, recall_score, f1_score\n",
    "from sklearn.metrics import roc_curve, auc, roc_auc_score, classification_report\n",
    "\n",
    "from nltk.stem.porter import PorterStemmer\n",
    "from textblob import TextBlob\n",
    "from sklearn.decomposition import PCA\n",
    "\n",
    "import imblearn\n",
    "from imblearn.pipeline import make_pipeline\n",
    "from imblearn.over_sampling import ADASYN, SMOTE, RandomOverSampler\n",
    "from sklearn.pipeline import Pipeline\n",
    "\n",
    "from tqdm import tqdm_notebook as tqdm\n",
    "pd.set_option('display.max_rows',20000)\n",
    "\n",
    "\n",
    "from nltk import FreqDist\n",
    "import pandas_profiling"
   ]
  },
  {
   "cell_type": "code",
   "execution_count": 2,
   "metadata": {},
   "outputs": [
    {
     "name": "stderr",
     "output_type": "stream",
     "text": [
      "/home/devvrat/anaconda3/lib/python3.6/site-packages/ipykernel_launcher.py:17: SettingWithCopyWarning: \n",
      "A value is trying to be set on a copy of a slice from a DataFrame.\n",
      "Try using .loc[row_indexer,col_indexer] = value instead\n",
      "\n",
      "See the caveats in the documentation: http://pandas.pydata.org/pandas-docs/stable/indexing.html#indexing-view-versus-copy\n"
     ]
    }
   ],
   "source": [
    "#loading the data set \n",
    "df1 = pd.read_json('reviews_Cell_Phones_and_Accessories_5.json', lines=True)\n",
    "\n",
    "#creating data frame with needed columns\n",
    "df1_new = df1[['asin','reviewText','overall']].copy()\n",
    "\n",
    "#creating the new data frame such that the Score ! = 3\n",
    "#we are considering the score values as - \n",
    "# 4 or 5 = 1 positive polarity\n",
    "# 1 or 2 = 0 negative polarity\n",
    "#score of 3 = Neutral \n",
    "#since the scope of the problem statement is binary classifier for reviews so there is no need for the \n",
    "#neutral reviews hence removing score which have value = 3\n",
    "df = df1_new[df1_new.overall != 3]\n",
    "\n",
    "#adding column for number of words in review in original data frame\n",
    "df['#words'] = df.reviewText.apply(lambda x: len(str(x).split(' ')))"
   ]
  },
  {
   "cell_type": "code",
   "execution_count": 3,
   "metadata": {},
   "outputs": [],
   "source": [
    "#Functions for preprocessing steps\n",
    "stpwrds = set(('a', 'about', 'above', 'across', 'after', 'afterwards', 'again', 'against', 'all', 'almost', 'alone', 'along', 'already', 'also','although','always','am','among', 'amongst', 'amoungst', 'amount',  'an', 'and', 'another', 'any','anyhow','anyone','anything','anyway', 'anywhere', 'are', 'around', 'as',  'at', 'back','be','became', 'because','become','becomes', 'becoming', 'been', 'just', 'before', 'beforehand', 'behind', 'being', 'below', 'beside', 'besides', 'between', 'beyond', 'bill', 'both', 'bottom','but', 'by', 'call', 'can', 'co', 'con', 'could',  'cry', 'did', 'de', 'describe', 'detail', 'do', 'doing', 'does', 'done', 'down', 'due', 'during', 'each', 'eg', 'either', 'else', 'elsewhere', 'empty', 'enough', 'etc', 'even', 'ever', 'every', 'everyone', 'everything', 'everywhere', 'except', 'few', 'fify', 'fill', 'find', 'fire', 'first', 'for', 'former', 'formerly', 'found', 'from', 'front', 'full', 'further', 'get', 'give', 'go', 'had', 'has',  'have', 'he', 'hence', 'her', 'here', 'hereafter', 'hereby', 'herein', 'hereupon', 'hers', 'herself', 'him', 'himself', 'his', 'how', 'however', 'i', 'ie', 'if', 'in', 'inc', 'indeed', 'interest', 'into', 'is', 'it', 'its', 'itself', 'keep', 'last', 'latter', 'latterly', 'least', 'less', 'ltd', 'made', 'many', 'may', 'me', 'meanwhile', 'might', 'mill', 'mine', 'more', 'moreover', 'most', 'mostly', 'move', 'much', 'must', 'my', 'myself', 'name', 'namely', 'neither', 'nevertheless', 'next', 'nine', 'nobody', 'none', 'noone', 'nor', 'nothing', 'now', 'nowhere', 'of', 'off', 'often', 'on', 'once', 'only', 'onto', 'or', 'other', 'others', 'otherwise', 'our', 'ours', 'ourselves', 'out', 'over', 'own','part', 'per', 'perhaps', 'please', 'put', 'rather', 're', 'same', 'see', 'seem', 'seemed', 'seeming', 'seems', 'serious', 'several', 'she', 'should', 'show', 'side', 'since', 'sincere',  'so', 'some', 'somehow', 'someone', 'something', 'sometime', 'sometimes', 'somewhere', 'still', 'such', 'system', 'take', 'than', 'that', 'the', 'their', 'them', 'themselves', 'then', 'thence', 'there', 'thereafter', 'thereby', 'therefore', 'therein', 'thereupon', 'these', 'they', 'thickv', 'thin', 'this', 'those', 'though', 'through', 'throughout', 'thru', 'thus', 'to', 'together', 'too', 'top', 'toward', 'towards', 'twelve', 'twenty', 'two', 'un', 'under', 'until', 'up', 'upon', 'us', 'very', 'via', 'was', 'we', 'well', 'were', 'what', 'whatever', 'when', 'whence', 'whenever', 'where', 'whereafter', 'whereas', 'whereby', 'wherein', 'whereupon', 'wherever', 'whether', 'which', 'while', 'whither', 'who', 'whoever', 'whole', 'whom', 'whose', 'why', 'will', 'with', 'within', 'without', 'would', 'yet', 'you', 'your', 'yours', 'yourself', 'yourselves', 'the'))\n",
    "sno = nltk.stem.SnowballStemmer('english')\n",
    "\n",
    "def replace_url(df,col,rm1,rm2):\n",
    "    return(df[col].str.replace(rm1,rm2,regex=True))\n",
    "\n",
    "def extract_emo(df, col, emo):\n",
    "    return(df[col].str.extractall(emo).unstack().apply(lambda x:' '.join(x.dropna()), axis=1))\n",
    "\n",
    "def replace_emo(df,col,emo1,emo2):\n",
    "    return(df[col].str.replace(emo1,emo2))\n",
    "\n",
    "def replace_punct(df, col, punct1, punct2):\n",
    "    return(df[col].str.replace(punct1, punct2))\n",
    "\n",
    "def remove_alphnum(df,col):\n",
    "    return(df[col].apply(lambda i: \" \".join(i for i in i.split() if i.isalpha())))\n",
    "\n",
    "def remove_stop(df,col):\n",
    "    return(df[col].apply(lambda x: \" \".join(x for x in x.split() if x.lower() not in stpwrds)))\n",
    "\n",
    "def stemming(df,col):\n",
    "    return(df[col].apply(lambda x: \" \".join([sno.stem(word) for word in x.split()])))\n",
    "\n",
    "#def grammer_correct(df,col):\n",
    "#    return(df[col].apply(lambda x: str(TextBlob(x).correct())))\n",
    "\n",
    "def tokenize(df,col):\n",
    "    return(df.apply(lambda row: nltk.word_tokenize(row[col]), axis=1))\n",
    "\n",
    "def join_word(df,col,word1,word2):\n",
    "    return(df[col].str.replace(word1,word2))\n"
   ]
  },
  {
   "cell_type": "code",
   "execution_count": 4,
   "metadata": {},
   "outputs": [
    {
     "name": "stderr",
     "output_type": "stream",
     "text": [
      "/home/devvrat/anaconda3/lib/python3.6/site-packages/ipykernel_launcher.py:1: SettingWithCopyWarning: \n",
      "A value is trying to be set on a copy of a slice from a DataFrame.\n",
      "Try using .loc[row_indexer,col_indexer] = value instead\n",
      "\n",
      "See the caveats in the documentation: http://pandas.pydata.org/pandas-docs/stable/indexing.html#indexing-view-versus-copy\n",
      "  \"\"\"Entry point for launching an IPython kernel.\n",
      "/home/devvrat/anaconda3/lib/python3.6/site-packages/ipykernel_launcher.py:2: SettingWithCopyWarning: \n",
      "A value is trying to be set on a copy of a slice from a DataFrame.\n",
      "Try using .loc[row_indexer,col_indexer] = value instead\n",
      "\n",
      "See the caveats in the documentation: http://pandas.pydata.org/pandas-docs/stable/indexing.html#indexing-view-versus-copy\n",
      "  \n",
      "/home/devvrat/anaconda3/lib/python3.6/site-packages/ipykernel_launcher.py:3: SettingWithCopyWarning: \n",
      "A value is trying to be set on a copy of a slice from a DataFrame.\n",
      "Try using .loc[row_indexer,col_indexer] = value instead\n",
      "\n",
      "See the caveats in the documentation: http://pandas.pydata.org/pandas-docs/stable/indexing.html#indexing-view-versus-copy\n",
      "  This is separate from the ipykernel package so we can avoid doing imports until\n",
      "/home/devvrat/anaconda3/lib/python3.6/site-packages/ipykernel_launcher.py:4: SettingWithCopyWarning: \n",
      "A value is trying to be set on a copy of a slice from a DataFrame.\n",
      "Try using .loc[row_indexer,col_indexer] = value instead\n",
      "\n",
      "See the caveats in the documentation: http://pandas.pydata.org/pandas-docs/stable/indexing.html#indexing-view-versus-copy\n",
      "  after removing the cwd from sys.path.\n",
      "/home/devvrat/anaconda3/lib/python3.6/site-packages/ipykernel_launcher.py:5: SettingWithCopyWarning: \n",
      "A value is trying to be set on a copy of a slice from a DataFrame.\n",
      "Try using .loc[row_indexer,col_indexer] = value instead\n",
      "\n",
      "See the caveats in the documentation: http://pandas.pydata.org/pandas-docs/stable/indexing.html#indexing-view-versus-copy\n",
      "  \"\"\"\n",
      "/home/devvrat/anaconda3/lib/python3.6/site-packages/ipykernel_launcher.py:6: SettingWithCopyWarning: \n",
      "A value is trying to be set on a copy of a slice from a DataFrame.\n",
      "Try using .loc[row_indexer,col_indexer] = value instead\n",
      "\n",
      "See the caveats in the documentation: http://pandas.pydata.org/pandas-docs/stable/indexing.html#indexing-view-versus-copy\n",
      "  \n",
      "/home/devvrat/anaconda3/lib/python3.6/site-packages/ipykernel_launcher.py:7: SettingWithCopyWarning: \n",
      "A value is trying to be set on a copy of a slice from a DataFrame.\n",
      "Try using .loc[row_indexer,col_indexer] = value instead\n",
      "\n",
      "See the caveats in the documentation: http://pandas.pydata.org/pandas-docs/stable/indexing.html#indexing-view-versus-copy\n",
      "  import sys\n",
      "/home/devvrat/anaconda3/lib/python3.6/site-packages/ipykernel_launcher.py:9: SettingWithCopyWarning: \n",
      "A value is trying to be set on a copy of a slice from a DataFrame.\n",
      "Try using .loc[row_indexer,col_indexer] = value instead\n",
      "\n",
      "See the caveats in the documentation: http://pandas.pydata.org/pandas-docs/stable/indexing.html#indexing-view-versus-copy\n",
      "  if __name__ == '__main__':\n",
      "/home/devvrat/anaconda3/lib/python3.6/site-packages/ipykernel_launcher.py:10: SettingWithCopyWarning: \n",
      "A value is trying to be set on a copy of a slice from a DataFrame.\n",
      "Try using .loc[row_indexer,col_indexer] = value instead\n",
      "\n",
      "See the caveats in the documentation: http://pandas.pydata.org/pandas-docs/stable/indexing.html#indexing-view-versus-copy\n",
      "  # Remove the CWD from sys.path while we load stuff.\n",
      "/home/devvrat/anaconda3/lib/python3.6/site-packages/ipykernel_launcher.py:12: SettingWithCopyWarning: \n",
      "A value is trying to be set on a copy of a slice from a DataFrame.\n",
      "Try using .loc[row_indexer,col_indexer] = value instead\n",
      "\n",
      "See the caveats in the documentation: http://pandas.pydata.org/pandas-docs/stable/indexing.html#indexing-view-versus-copy\n",
      "  if sys.path[0] == '':\n"
     ]
    }
   ],
   "source": [
    "df['nohtml'] = replace_url(df,'reviewText','^http?:\\/\\/.*[\\r\\n]*','')\n",
    "df['emoticons']=extract_emo(df,'nohtml','(=\\)|:\\)|:-\\)|:\\(|:-\\(|;\\)|;-\\)|:D|=D|:-D|=\\(|:P|=P|:-P)')\n",
    "df['nohtml'] = replace_emo(df,'nohtml','(=\\)|:\\)|:-\\)|:D|=D|:-D)','happy')\n",
    "df['nohtml'] = replace_emo(df,'nohtml','(=\\(|:\\(|:-\\()','sad')\n",
    "df['nohtml'] = replace_emo(df,'nohtml','(;\\)|;-\\))','wink')\n",
    "df['nohtml'] = replace_emo(df,'nohtml','(:P|=P|:-P)','playful')\n",
    "df['nohtml'] = replace_punct(df, 'nohtml', '[^!\\w\\s]','')\n",
    "#df['nohtml'] = remove_alphnum(df,'nohtml')\n",
    "df['nohtml'] = remove_stop(df,'nohtml')\n",
    "df['nohtml'] = stemming(df,'nohtml')\n",
    "#df['nohtml'] = grammer_correct(df,'nohtml')\n",
    "df['tokenized'] = tokenize(df,'nohtml')\n",
    "#df['nohtml'] = join_word(df,'nohtml',r'\\b(no|not|dont|doesnt|cant|cannot|wouldnt|wont|couldnt|hasnt|havent|shouldnt)\\s+([a-z])',r'\\1_\\2')\n"
   ]
  },
  {
   "cell_type": "code",
   "execution_count": 5,
   "metadata": {},
   "outputs": [
    {
     "name": "stderr",
     "output_type": "stream",
     "text": [
      "/home/devvrat/anaconda3/lib/python3.6/site-packages/ipykernel_launcher.py:10: SettingWithCopyWarning: \n",
      "A value is trying to be set on a copy of a slice from a DataFrame.\n",
      "Try using .loc[row_indexer,col_indexer] = value instead\n",
      "\n",
      "See the caveats in the documentation: http://pandas.pydata.org/pandas-docs/stable/indexing.html#indexing-view-versus-copy\n",
      "  # Remove the CWD from sys.path while we load stuff.\n"
     ]
    }
   ],
   "source": [
    "#changing the overall data into 1 or 0 \n",
    "def partition(x):\n",
    "    '''This is the function which gives the overall more than 3 as 1 and less than 3 as 0 '''\n",
    "    if x < 3:\n",
    "        return (0)\n",
    "    return (1) \n",
    "\n",
    "actualScore = df['overall']\n",
    "postiveNegative = actualScore.map(partition)\n",
    "df['overall'] = postiveNegative"
   ]
  },
  {
   "cell_type": "code",
   "execution_count": 6,
   "metadata": {},
   "outputs": [
    {
     "data": {
      "text/plain": [
       "'look good stick good! dont like round shape bump siri kept pop irrit wont buy product like'"
      ]
     },
     "execution_count": 6,
     "metadata": {},
     "output_type": "execute_result"
    }
   ],
   "source": [
    "df['nohtml'][0]"
   ]
  },
  {
   "cell_type": "code",
   "execution_count": 7,
   "metadata": {},
   "outputs": [
    {
     "name": "stderr",
     "output_type": "stream",
     "text": [
      "/home/devvrat/anaconda3/lib/python3.6/site-packages/ipykernel_launcher.py:1: SettingWithCopyWarning: \n",
      "A value is trying to be set on a copy of a slice from a DataFrame.\n",
      "Try using .loc[row_indexer,col_indexer] = value instead\n",
      "\n",
      "See the caveats in the documentation: http://pandas.pydata.org/pandas-docs/stable/indexing.html#indexing-view-versus-copy\n",
      "  \"\"\"Entry point for launching an IPython kernel.\n"
     ]
    }
   ],
   "source": [
    "df['#nohtml'] = df.nohtml.apply(lambda x: len(str(x).split(' ')))"
   ]
  },
  {
   "cell_type": "code",
   "execution_count": 9,
   "metadata": {},
   "outputs": [
    {
     "data": {
      "text/plain": [
       "[<matplotlib.lines.Line2D at 0x7fa16e9447b8>]"
      ]
     },
     "execution_count": 9,
     "metadata": {},
     "output_type": "execute_result"
    },
    {
     "data": {
      "image/png": "[encoded data removed]",
      "text/plain": [
       "<Figure size 1152x576 with 1 Axes>"
      ]
     },
     "metadata": {},
     "output_type": "display_data"
    }
   ],
   "source": [
    "plt.xlabel('Review',fontsize=15)\n",
    "plt.ylabel('Review Length',fontsize=15)\n",
    "plt.yticks(fontsize=12)\n",
    "plt.xticks(fontsize=14, rotation=45)\n",
    "plt.rcParams['figure.figsize'] = (16,8)\n",
    "plt.plot(df['#nohtml'],color='m')"
   ]
  },
  {
   "cell_type": "code",
   "execution_count": 10,
   "metadata": {},
   "outputs": [
    {
     "data": {
      "text/plain": [
       "[<matplotlib.lines.Line2D at 0x7fa16e903cf8>]"
      ]
     },
     "execution_count": 10,
     "metadata": {},
     "output_type": "execute_result"
    },
    {
     "data": {
      "image/png": "[encoded data removed]",
      "text/plain": [
       "<Figure size 1152x576 with 1 Axes>"
      ]
     },
     "metadata": {},
     "output_type": "display_data"
    }
   ],
   "source": [
    "class0 = df[df['overall']==0]\n",
    "plt.xlabel('Review',fontsize=15)\n",
    "plt.ylabel('Review Length',fontsize=15)\n",
    "plt.yticks(fontsize=12)\n",
    "plt.xticks(fontsize=14, rotation=45)\n",
    "plt.rcParams['figure.figsize'] = (16,8)\n",
    "plt.plot(class0['#nohtml'],color='r')"
   ]
  },
  {
   "cell_type": "code",
   "execution_count": 11,
   "metadata": {},
   "outputs": [
    {
     "data": {
      "text/plain": [
       "[<matplotlib.lines.Line2D at 0x7fa16e8bae10>]"
      ]
     },
     "execution_count": 11,
     "metadata": {},
     "output_type": "execute_result"
    },
    {
     "data": {
      "image/png": "[encoded data removed]",
      "text/plain": [
       "<Figure size 1152x576 with 1 Axes>"
      ]
     },
     "metadata": {},
     "output_type": "display_data"
    }
   ],
   "source": [
    "class1 = df[df['overall']==1]\n",
    "plt.xlabel('Review',fontsize=15)\n",
    "plt.ylabel('Review Length',fontsize=15)\n",
    "plt.yticks(fontsize=12)\n",
    "plt.xticks(fontsize=14, rotation=45)\n",
    "plt.rcParams['figure.figsize'] = (16,8)\n",
    "plt.plot(class1['#nohtml'],color='g')"
   ]
  },
  {
   "cell_type": "code",
   "execution_count": 84,
   "metadata": {},
   "outputs": [
    {
     "data": {
      "image/png": "[encoded data removed]",
      "text/plain": [
       "<Figure size 1152x576 with 1 Axes>"
      ]
     },
     "metadata": {},
     "output_type": "display_data"
    }
   ],
   "source": [
    "#Review length distribution using box plot\n",
    "data = [class0['#nohtml'], class1['#nohtml'], df['#nohtml']]\n",
    "fig7, ax7 = plt.subplots()\n",
    "ax7.set_title('Review length distribution of class0, class1, overall')\n",
    "plt\n",
    "plt.boxplot(data, 0, 'rs', 0)\n",
    "plt.show()"
   ]
  },
  {
   "cell_type": "code",
   "execution_count": 13,
   "metadata": {},
   "outputs": [
    {
     "data": {
      "text/plain": [
       "<BarContainer object of 14 artists>"
      ]
     },
     "execution_count": 13,
     "metadata": {},
     "output_type": "execute_result"
    },
    {
     "data": {
      "image/png": "[encoded data removed]",
      "text/plain": [
       "<Figure size 1152x576 with 1 Axes>"
      ]
     },
     "metadata": {},
     "output_type": "display_data"
    }
   ],
   "source": [
    "#Emoticons\n",
    "df_emonan = df[['emoticons']].copy()\n",
    "#removing nan\n",
    "df_emonan['emoticons'].replace('', np.nan, inplace=True)\n",
    "df_emonan.dropna(subset=['emoticons'], inplace=True)\n",
    "\n",
    "b = pd.Series(' '.join(df_emonan.emoticons).split()).value_counts()[:]\n",
    "names = b.index\n",
    "values = b.values\n",
    "plt.xlabel('Emoticons',fontsize=15)\n",
    "plt.ylabel('count',fontsize=15)\n",
    "plt.title('Emoticons Frequency',fontsize=15)\n",
    "plt.yticks(fontsize=12)\n",
    "plt.xticks(fontsize=14, rotation=270)\n",
    "plt.rcParams['figure.figsize'] = (16,8)\n",
    "plt.bar(names,values,color='y')"
   ]
  },
  {
   "cell_type": "code",
   "execution_count": 14,
   "metadata": {},
   "outputs": [
    {
     "data": {
      "text/plain": [
       ":)     2470\n",
       ":(      555\n",
       ";)      478\n",
       ":-)     477\n",
       ":P      459\n",
       ":D      320\n",
       "=)      145\n",
       ";-)     110\n",
       ":-(      93\n",
       ":-D      56\n",
       ":-P      37\n",
       "=(       20\n",
       "=D       10\n",
       "=P        9\n",
       "dtype: int64"
      ]
     },
     "execution_count": 14,
     "metadata": {},
     "output_type": "execute_result"
    }
   ],
   "source": [
    "b"
   ]
  },
  {
   "cell_type": "code",
   "execution_count": 15,
   "metadata": {},
   "outputs": [
    {
     "data": {
      "text/plain": [
       "<BarContainer object of 25 artists>"
      ]
     },
     "execution_count": 15,
     "metadata": {},
     "output_type": "execute_result"
    },
    {
     "data": {
      "image/png": "[encoded data removed]",
      "text/plain": [
       "<Figure size 1152x576 with 1 Axes>"
      ]
     },
     "metadata": {},
     "output_type": "display_data"
    }
   ],
   "source": [
    "#clean words recurring in whole dataset\n",
    "a1 = pd.Series(' '.join(df.nohtml).split()).value_counts()[:]\n",
    "names01 = a1.index[0:25]\n",
    "values01 = a1.values[0:25]\n",
    "plt.xlabel('Words')\n",
    "plt.ylabel('Word Frequency')\n",
    "plt.title('Words Frequency overall')\n",
    "plt.xticks(fontsize=10, rotation=45)\n",
    "plt.rcParams['figure.figsize'] = (16,8)\n",
    "plt.bar(names01,values01, width=0.5, color='m')"
   ]
  },
  {
   "cell_type": "code",
   "execution_count": 16,
   "metadata": {},
   "outputs": [
    {
     "data": {
      "text/plain": [
       "<BarContainer object of 25 artists>"
      ]
     },
     "execution_count": 16,
     "metadata": {},
     "output_type": "execute_result"
    },
    {
     "data": {
      "image/png": "[encoded data removed]",
      "text/plain": [
       "<Figure size 1152x576 with 1 Axes>"
      ]
     },
     "metadata": {},
     "output_type": "display_data"
    }
   ],
   "source": [
    "#class0 clean words recurring\n",
    "class0 = df[df['overall']==0]\n",
    "b1 = pd.Series(' '.join(class0.nohtml).split()).value_counts()[:]\n",
    "names0 = b1.index[0:25]\n",
    "values0 = b1.values[0:25]\n",
    "plt.xlabel('Words')\n",
    "plt.ylabel('Word Frequency')\n",
    "plt.title('Words Frequency of Negative class')\n",
    "plt.xticks(fontsize=10, rotation=45)\n",
    "plt.rcParams['figure.figsize'] = (16,8)\n",
    "plt.bar(names0,values0,width=0.5,color='r')"
   ]
  },
  {
   "cell_type": "code",
   "execution_count": 17,
   "metadata": {},
   "outputs": [
    {
     "data": {
      "text/plain": [
       "<BarContainer object of 25 artists>"
      ]
     },
     "execution_count": 17,
     "metadata": {},
     "output_type": "execute_result"
    },
    {
     "data": {
      "image/png": "[encoded data removed]",
      "text/plain": [
       "<Figure size 1152x576 with 1 Axes>"
      ]
     },
     "metadata": {},
     "output_type": "display_data"
    }
   ],
   "source": [
    "#class1 clean words recurring\n",
    "class1 = df[df['overall']==1]\n",
    "c1 = pd.Series(' '.join(class1.nohtml).split()).value_counts()[:]\n",
    "names1 = c1.index[0:25]\n",
    "values1 = c1.values[0:25]\n",
    "plt.xlabel('Words')\n",
    "plt.ylabel('Word Frequency')\n",
    "plt.title('Words Frequency of Positive class')\n",
    "plt.xticks(fontsize=10, rotation=90)\n",
    "plt.rcParams['figure.figsize'] = (16,8)\n",
    "plt.bar(names1,values1,width=0.5,color='g')"
   ]
  },
  {
   "cell_type": "code",
   "execution_count": 103,
   "metadata": {},
   "outputs": [
    {
     "data": {
      "image/png": "[encoded data removed]",
      "text/plain": [
       "<Figure size 1152x576 with 1 Axes>"
      ]
     },
     "metadata": {},
     "output_type": "display_data"
    }
   ],
   "source": [
    "#Words frequency distribution using box plot\n",
    "data = [values0, values1, values01]\n",
    "fig7, ax7 = plt.subplots()\n",
    "ax7.set_title('Word distribution of class0, class1, overall')\n",
    "plt\n",
    "plt.boxplot(data, 0, 'rs', 0)\n",
    "plt.show()"
   ]
  },
  {
   "cell_type": "code",
   "execution_count": 8,
   "metadata": {},
   "outputs": [
    {
     "data": {
      "text/plain": [
       "'look good stick good! dont like round shape bump siri kept pop irrit wont buy product like'"
      ]
     },
     "execution_count": 8,
     "metadata": {},
     "output_type": "execute_result"
    }
   ],
   "source": [
    "df['nohtml'][0]"
   ]
  },
  {
   "cell_type": "code",
   "execution_count": 9,
   "metadata": {},
   "outputs": [
    {
     "data": {
      "text/html": [
       "<div>\n",
       "<style scoped>\n",
       "    .dataframe tbody tr th:only-of-type {\n",
       "        vertical-align: middle;\n",
       "    }\n",
       "\n",
       "    .dataframe tbody tr th {\n",
       "        vertical-align: top;\n",
       "    }\n",
       "\n",
       "    .dataframe thead th {\n",
       "        text-align: right;\n",
       "    }\n",
       "</style>\n",
       "<table border=\"1\" class=\"dataframe\">\n",
       "  <thead>\n",
       "    <tr style=\"text-align: right;\">\n",
       "      <th></th>\n",
       "      <th>asin</th>\n",
       "      <th>reviewText</th>\n",
       "      <th>overall</th>\n",
       "      <th>#words</th>\n",
       "      <th>nohtml</th>\n",
       "      <th>emoticons</th>\n",
       "      <th>tokenized</th>\n",
       "      <th>#nohtml</th>\n",
       "    </tr>\n",
       "  </thead>\n",
       "  <tbody>\n",
       "    <tr>\n",
       "      <th>0</th>\n",
       "      <td>120401325X</td>\n",
       "      <td>They look good and stick good! I just don't li...</td>\n",
       "      <td>1</td>\n",
       "      <td>37</td>\n",
       "      <td>look good stick good! dont like round shape bu...</td>\n",
       "      <td>NaN</td>\n",
       "      <td>[look, good, stick, good, !, dont, like, round...</td>\n",
       "      <td>17</td>\n",
       "    </tr>\n",
       "    <tr>\n",
       "      <th>1</th>\n",
       "      <td>120401325X</td>\n",
       "      <td>These stickers work like the review says they ...</td>\n",
       "      <td>1</td>\n",
       "      <td>32</td>\n",
       "      <td>sticker work like review say stick great stay ...</td>\n",
       "      <td>:)</td>\n",
       "      <td>[sticker, work, like, review, say, stick, grea...</td>\n",
       "      <td>14</td>\n",
       "    </tr>\n",
       "    <tr>\n",
       "      <th>2</th>\n",
       "      <td>120401325X</td>\n",
       "      <td>These are awesome and make my phone look so st...</td>\n",
       "      <td>1</td>\n",
       "      <td>34</td>\n",
       "      <td>awesom make phone look stylish! use one far ye...</td>\n",
       "      <td>NaN</td>\n",
       "      <td>[awesom, make, phone, look, stylish, !, use, o...</td>\n",
       "      <td>15</td>\n",
       "    </tr>\n",
       "    <tr>\n",
       "      <th>3</th>\n",
       "      <td>120401325X</td>\n",
       "      <td>Item arrived in great time and was in perfect ...</td>\n",
       "      <td>1</td>\n",
       "      <td>51</td>\n",
       "      <td>item arriv great time perfect condit order but...</td>\n",
       "      <td>NaN</td>\n",
       "      <td>[item, arriv, great, time, perfect, condit, or...</td>\n",
       "      <td>25</td>\n",
       "    </tr>\n",
       "    <tr>\n",
       "      <th>4</th>\n",
       "      <td>120401325X</td>\n",
       "      <td>awesome! stays on, and looks great. can be use...</td>\n",
       "      <td>1</td>\n",
       "      <td>24</td>\n",
       "      <td>awesome! stay look great use multipl appl prod...</td>\n",
       "      <td>NaN</td>\n",
       "      <td>[awesome, !, stay, look, great, use, multipl, ...</td>\n",
       "      <td>14</td>\n",
       "    </tr>\n",
       "  </tbody>\n",
       "</table>\n",
       "</div>"
      ],
      "text/plain": [
       "         asin                                         reviewText  overall  \\\n",
       "0  120401325X  They look good and stick good! I just don't li...        1   \n",
       "1  120401325X  These stickers work like the review says they ...        1   \n",
       "2  120401325X  These are awesome and make my phone look so st...        1   \n",
       "3  120401325X  Item arrived in great time and was in perfect ...        1   \n",
       "4  120401325X  awesome! stays on, and looks great. can be use...        1   \n",
       "\n",
       "   #words                                             nohtml emoticons  \\\n",
       "0      37  look good stick good! dont like round shape bu...       NaN   \n",
       "1      32  sticker work like review say stick great stay ...        :)   \n",
       "2      34  awesom make phone look stylish! use one far ye...       NaN   \n",
       "3      51  item arriv great time perfect condit order but...       NaN   \n",
       "4      24  awesome! stay look great use multipl appl prod...       NaN   \n",
       "\n",
       "                                           tokenized  #nohtml  \n",
       "0  [look, good, stick, good, !, dont, like, round...       17  \n",
       "1  [sticker, work, like, review, say, stick, grea...       14  \n",
       "2  [awesom, make, phone, look, stylish, !, use, o...       15  \n",
       "3  [item, arriv, great, time, perfect, condit, or...       25  \n",
       "4  [awesome, !, stay, look, great, use, multipl, ...       14  "
      ]
     },
     "execution_count": 9,
     "metadata": {},
     "output_type": "execute_result"
    }
   ],
   "source": [
    "df.head(5)"
   ]
  },
  {
   "cell_type": "code",
   "execution_count": 23,
   "metadata": {},
   "outputs": [],
   "source": [
    "###################################################TF-IDF##############################################################"
   ]
  },
  {
   "cell_type": "code",
   "execution_count": 10,
   "metadata": {},
   "outputs": [],
   "source": [
    "#TF-IDF on tokenized clean review\n",
    "def dummy_fun(doc):\n",
    "    return doc\n",
    "\n",
    "tfidf = TfidfVectorizer(\n",
    "    analyzer='word',\n",
    "    tokenizer=dummy_fun,\n",
    "    preprocessor=dummy_fun,\n",
    "    token_pattern=None)  \n",
    "\n",
    "\n",
    "#get the list of top tf-idf features with the values \n",
    "def top_tfidf_feat(row,features,top_n):\n",
    "    topn_ids = np.argsort(row)[::-1][:top_n]\n",
    "    top_feats = [(features[i],row[i]) for i in topn_ids]\n",
    "    df = pd.DataFrame(top_feats)\n",
    "    df.columns = ['feature','tfidf']\n",
    "    return df \n",
    "\n",
    "\n",
    "tfidf_token = tfidf.fit_transform(df['tokenized'].values)\n",
    "\n",
    "#knowing what are the actual features represented by the tf-idf word representation \n",
    "features = tfidf.get_feature_names()\n",
    "top_tfidf = top_tfidf_feat(tfidf_token[0,:].toarray()[0],features,5000)\n",
    "#print(top_tfidf)"
   ]
  },
  {
   "cell_type": "markdown",
   "metadata": {},
   "source": [
    "# ML 3"
   ]
  },
  {
   "cell_type": "markdown",
   "metadata": {},
   "source": [
    "## ML SMOTE CV"
   ]
  },
  {
   "cell_type": "code",
   "execution_count": 11,
   "metadata": {},
   "outputs": [],
   "source": [
    "#SMOTE\n",
    "X = tfidf_token\n",
    "y = df.overall\n",
    "smote = SMOTE(ratio='minority', random_state=2)\n",
    "X_sm, y_sm = smote.fit_sample(X, y)"
   ]
  },
  {
   "cell_type": "markdown",
   "metadata": {},
   "source": [
    "## Naive Bayes"
   ]
  },
  {
   "cell_type": "code",
   "execution_count": 14,
   "metadata": {},
   "outputs": [],
   "source": [
    "#ML\n",
    "X_sm_train, X_sm_test, y_sm_train, y_sm_test = train_test_split(X_sm, y_sm, test_size=0.20, random_state=42)\n",
    "\n",
    "nb = naive_bayes.MultinomialNB()\n",
    "nb.fit(X_sm_train, y_sm_train)\n",
    "y_sm_nb_class = nb.predict(X_sm_test)\n",
    "\n",
    "#Cross validation 10 fold\n",
    "score = cross_val_score(nb, X_sm, y_sm, cv=10)\n",
    "predict = cross_val_predict(nb, X_sm, y_sm, cv=10)\n",
    "\n",
    "#svm = svm.SVC().fit(X_sm_train, y_sm_train)\n",
    "#y_sm_svm_class = svm.predict(X_sm_test)"
   ]
  },
  {
   "cell_type": "markdown",
   "metadata": {},
   "source": [
    "## Logistic Regression"
   ]
  },
  {
   "cell_type": "code",
   "execution_count": 20,
   "metadata": {},
   "outputs": [
    {
     "name": "stdout",
     "output_type": "stream",
     "text": [
      "Best Penalty: l1\n",
      "Best C: 59.94842503189409\n"
     ]
    },
    {
     "data": {
      "text/plain": [
       "array([0, 1, 1, ..., 0, 0, 0])"
      ]
     },
     "execution_count": 20,
     "metadata": {},
     "output_type": "execute_result"
    }
   ],
   "source": [
    "# Create logistic regression\n",
    "logistic = LogisticRegression()\n",
    "\n",
    "# Create regularization penalty space\n",
    "penalty = ['l1', 'l2']\n",
    "\n",
    "# Create regularization hyperparameter space\n",
    "C = np.logspace(0, 4, 10)\n",
    "\n",
    "# Create hyperparameter options\n",
    "hyperparameters = dict(C=C, penalty=penalty)\n",
    "\n",
    "# Create grid search using 10-fold cross validation\n",
    "clf = GridSearchCV(logistic, hyperparameters, cv=10, verbose=0)\n",
    "\n",
    "# Fit grid search\n",
    "best_model = clf.fit(X_sm, y_sm)\n",
    "\n",
    "# View best hyperparameters\n",
    "print('Best Penalty:', best_model.best_estimator_.get_params()['penalty'])\n",
    "print('Best C:', best_model.best_estimator_.get_params()['C'])\n",
    "\n",
    "# Predict target vector\n",
    "best_model.predict(X_sm)"
   ]
  },
  {
   "cell_type": "code",
   "execution_count": 22,
   "metadata": {},
   "outputs": [
    {
     "data": {
      "text/plain": [
       "array([0, 1, 1, ..., 0, 0, 0])"
      ]
     },
     "execution_count": 22,
     "metadata": {},
     "output_type": "execute_result"
    }
   ],
   "source": [
    "lr_predict = best_model.predict(X_sm)\n",
    "lr_predict"
   ]
  },
  {
   "cell_type": "markdown",
   "metadata": {},
   "source": [
    "# Evaluation"
   ]
  },
  {
   "cell_type": "code",
   "execution_count": 24,
   "metadata": {},
   "outputs": [
    {
     "name": "stdout",
     "output_type": "stream",
     "text": [
      "\n",
      " NB Comparison\n",
      "True [1 1 0 0 1 1 0 0 0 0 1 0 0 1 1 1 0 1 1 1 1 0 0 0 1 1 0 0 1 1 1 0 1 1 0 0 1\n",
      " 1 1 0 0 0 1 1 1 0 0 1 1 0]\n",
      "Pred [1 1 0 1 1 1 1 1 0 1 1 0 0 1 1 1 0 1 1 1 1 1 0 1 1 1 1 0 1 1 1 1 1 1 0 0 1\n",
      " 1 0 0 0 0 1 1 1 1 1 1 1 0]\n",
      "\n",
      " NB Comparison CV\n",
      "True [1 1 1 1 1 1 0 1 1 1 1 1 1 1 1 1 1 1 0 1 1 1 1 1 0 1 0 1 1 1 0 1 1 0 1 1 1\n",
      " 1 0 1 1 1 0 1 0 1 1 1 1 1]\n",
      "Pred [1 1 1 1 1 1 0 1 1 1 1 1 1 1 1 1 1 1 0 1 1 1 1 1 0 0 0 1 1 1 0 1 1 0 1 1 1\n",
      " 1 1 1 1 1 0 1 0 1 1 1 1 1]\n",
      "\n",
      " LR Comparison CV\n",
      "True [1 1 1 1 1 1 0 1 1 1 1 1 1 1 1 1 1 1 0 1 1 1 1 1 0 1 0 1 1 1 0 1 1 0 1 1 1\n",
      " 1 0 1 1 1 0 1 0 1 1 1 1 1]\n",
      "Pred [0 1 1 1 1 1 0 1 1 1 1 1 1 1 1 1 1 1 0 1 1 1 0 1 0 1 0 1 1 1 0 1 1 0 1 1 1\n",
      " 1 0 1 1 1 0 1 0 1 1 1 1 1]\n"
     ]
    }
   ],
   "source": [
    "#Evaluation\n",
    "print('\\n NB Comparison')\n",
    "print (\"True\", y_sm_test[0:50])\n",
    "print (\"Pred\", y_sm_nb_class[0:50])\n",
    "print('\\n NB Comparison CV')\n",
    "print (\"True\", y_sm[0:50])\n",
    "print (\"Pred\", predict[0:50])\n",
    "print('\\n LR Comparison CV')\n",
    "print (\"True\", y_sm[0:50])\n",
    "print (\"Pred\", lr_predict[0:50])"
   ]
  },
  {
   "cell_type": "code",
   "execution_count": 36,
   "metadata": {},
   "outputs": [
    {
     "data": {
      "image/png": "[encoded data removed]",
      "text/plain": [
       "<Figure size 432x288 with 2 Axes>"
      ]
     },
     "metadata": {},
     "output_type": "display_data"
    },
    {
     "name": "stdout",
     "output_type": "stream",
     "text": [
      "Classification accuracy     :  0.8332072044800969\n",
      "Classification error        :  0.16679279551990311\n",
      "Specificity                 :  0.7192587111529665\n",
      "False Positive rate         :  0.2807412888470335\n",
      "Recall or True positive rate:  [0.71925871 0.94715953]\n",
      "Precision                   :  [0.93156473 0.77135892]\n",
      "F1 score                    :  [0.81175979 0.85026722]\n",
      "\n",
      "\n"
     ]
    },
    {
     "data": {
      "image/png": "[encoded data removed]",
      "text/plain": [
       "<Figure size 432x288 with 2 Axes>"
      ]
     },
     "metadata": {},
     "output_type": "display_data"
    },
    {
     "name": "stdout",
     "output_type": "stream",
     "text": [
      "Classification accuracy     :  0.8401252547811405\n",
      "Classification error        :  0.15987474521885947\n",
      "Specificity                 :  0.7468602218529904\n",
      "False Positive rate         :  0.25313977814700955\n",
      "Recall or True positive rate:  [0.74686022 0.93339029]\n",
      "Precision                   :  [0.91811657 0.7866554 ]\n",
      "F1 score                    :  [0.82368084 0.85376396]\n",
      "\n",
      "\n",
      "--------ROC Curve---------\n",
      "ROC AUC score:  0.942779317907655\n"
     ]
    },
    {
     "data": {
      "image/png": "[encoded data removed]",
      "text/plain": [
       "<Figure size 432x288 with 1 Axes>"
      ]
     },
     "metadata": {},
     "output_type": "display_data"
    },
    {
     "data": {
      "image/png": "[encoded data removed]",
      "text/plain": [
       "<Figure size 432x288 with 2 Axes>"
      ]
     },
     "metadata": {},
     "output_type": "display_data"
    },
    {
     "name": "stdout",
     "output_type": "stream",
     "text": [
      "Classification accuracy     :  0.9741182722643401\n",
      "Classification error        :  0.025881727735659887\n",
      "Specificity                 :  0.9773438183200253\n",
      "False Positive rate         :  0.022656181679974706\n",
      "Recall or True positive rate:  [0.97734382 0.97089273]\n",
      "Precision                   :  [0.9710793  0.97719671]\n",
      "F1 score                    :  [0.97420149 0.97403452]\n",
      "\n",
      "\n",
      "--------ROC Curve---------\n"
     ]
    },
    {
     "data": {
      "image/png": "[encoded data removed]",
      "text/plain": [
       "<Figure size 432x288 with 1 Axes>"
      ]
     },
     "metadata": {},
     "output_type": "display_data"
    }
   ],
   "source": [
    "#Confusion metrics\n",
    "\n",
    "import itertools\n",
    "\n",
    "def plot_confusion_matrix(cm, classes,\n",
    "                          normalize=False,\n",
    "                          title='Confusion matrix',\n",
    "                          cmap=plt.cm.Blues):\n",
    "    \"\"\"\n",
    "    This function prints and plots the confusion matrix.\n",
    "    Normalization can be applied by setting `normalize=True`.\n",
    "    \"\"\"\n",
    "    plt.imshow(cm, interpolation='nearest', cmap=cmap)\n",
    "    plt.title(title)\n",
    "    plt.colorbar()\n",
    "    tick_marks = np.arange(len(classes))\n",
    "    plt.xticks(tick_marks, classes, rotation=0)\n",
    "    plt.yticks(tick_marks, classes)\n",
    "\n",
    "    if normalize:\n",
    "        cm = cm.astype('float') / cm.sum(axis=1)[:, np.newaxis]\n",
    "        #print(\"Normalized confusion matrix\")\n",
    "    else:\n",
    "        1#print('Confusion matrix, without normalization')\n",
    "\n",
    "    #print(cm)\n",
    "\n",
    "    thresh = cm.max() / 2.\n",
    "    for i, j in itertools.product(range(cm.shape[0]), range(cm.shape[1])):\n",
    "        plt.text(j, i, cm[i, j],\n",
    "                 horizontalalignment=\"center\",\n",
    "                 color=\"white\" if cm[i, j] > thresh else \"black\")\n",
    "\n",
    "    plt.tight_layout()\n",
    "    plt.ylabel('True label')\n",
    "    plt.xlabel('Predicted label')\n",
    "\n",
    "\n",
    "##############################################################\n",
    "confusion = metrics.confusion_matrix(y_sm_test, y_sm_nb_class)\n",
    "TP = confusion[1,1]\n",
    "TN = confusion[0,0]\n",
    "FP = confusion[0,1]\n",
    "FN = confusion[1,0]\n",
    "\n",
    "\n",
    "class_names = [0,1]\n",
    "plt.figure()\n",
    "plot_confusion_matrix(confusion , classes=class_names, title='Confusion matrix')\n",
    "plt.show()\n",
    "\n",
    "\n",
    "#Classification accuracy\n",
    "#print(\"Classification accuracy: \",(TP+TN)/(TP+TN+FP+FN))\n",
    "print(\"Classification accuracy     : \",metrics.accuracy_score(y_sm_test, y_sm_nb_class))\n",
    "\n",
    "#Classification error or misclassification rate\n",
    "#print(\"Classification error: \",(FP+FN)/(TP+TN+FP+FN))\n",
    "print(\"Classification error        : \",1-metrics.accuracy_score(y_sm_test, y_sm_nb_class))\n",
    "\n",
    "#Specificity: Actual value negative, how often prediction correct?\n",
    "print(\"Specificity                 : \",(TN)/(TN+FP))\n",
    "\n",
    "#False Positive rate: Actual value negative, how often prediction incorrect?\n",
    "print(\"False Positive rate         : \",(FP)/(TN+FP))\n",
    "\n",
    "#Sensitivity or Recall or True positive rate: Actual value positive, how often prediction correct?\n",
    "#print(\"Recall or True positive rate: \",(TP)/(TP+FN))\n",
    "print(\"Recall or True positive rate: \",metrics.recall_score(y_sm_test, y_sm_nb_class, average=None))\n",
    "\n",
    "#Precision: Predicted value is positive, how often prediction correct?\n",
    "#print(\"Precision: \",(TP)/(TP+FP))\n",
    "print(\"Precision                   : \",metrics.precision_score(y_sm_test, y_sm_nb_class, average=None))\n",
    "\n",
    "#F1 Score:\n",
    "print(\"F1 score                    : \",f1_score(y_sm_test, y_sm_nb_class, average=None))\n",
    "\n",
    "\n",
    "#############################################################\n",
    "print('\\n')\n",
    "confusion_cv = metrics.confusion_matrix(y_sm, predict)\n",
    "TP1 = confusion_cv[1,1]\n",
    "TN1 = confusion_cv[0,0]\n",
    "FP1 = confusion_cv[0,1]\n",
    "FN1 = confusion_cv[1,0]\n",
    "\n",
    "\n",
    "class_names = [0,1]\n",
    "plt.figure()\n",
    "plot_confusion_matrix(confusion_cv , classes=class_names, title='NB Confusion matrix with CV')\n",
    "plt.show()\n",
    "\n",
    "\n",
    "#Classification accuracy\n",
    "#print(\"Classification accuracy: \",(TP1+TN1)/(TP1+TN1+FP1+FN1))\n",
    "print(\"Classification accuracy     : \",metrics.accuracy_score(y_sm, predict))\n",
    "\n",
    "#Classification error or misclassification rate\n",
    "#print(\"Classification error: \", (FP1+FN1)/(TP1+TN1+FP1+FN1))\n",
    "print(\"Classification error        : \",1-metrics.accuracy_score(y_sm, predict))\n",
    "\n",
    "#Specificity: Actual value negative, how often prediction correct?\n",
    "print(\"Specificity                 : \",(TN1)/(TN1+FP1))\n",
    "\n",
    "#False Positive rate: Actual value negative, how often prediction incorrect?\n",
    "print(\"False Positive rate         : \",(FP1)/(TN1+FP1))\n",
    "\n",
    "#Sensitivity or Recall or True positive rate: Actual value positive, how often prediction correct?\n",
    "#print(\"Recall or True positive rate: \",(TP1)/(TP1+FN1))\n",
    "print(\"Recall or True positive rate: \",metrics.recall_score(y_sm, predict, average=None))\n",
    "\n",
    "#Precision: Predicted value is positive, how often prediction correct?\n",
    "#print(\"Precision: \",(TP1)/(TP1+FP1))\n",
    "print(\"Precision                   : \",metrics.precision_score(y_sm, predict, average=None))\n",
    "\n",
    "#F1 Score:\n",
    "print(\"F1 score                    : \",f1_score(y_sm, predict, average=None))\n",
    "\n",
    "print('\\n')\n",
    "##############################\n",
    "#ROC Curve\n",
    "print('--------ROC Curve---------')\n",
    "#Prediction probability classwise\n",
    "class1_prob = nb.predict_proba(X_sm)[:,1:2]\n",
    "class0_prob = nb.predict_proba(X_sm)[:,0:1]\n",
    "\n",
    "fpr, tpr, thresholds = metrics.roc_curve(y_sm, predict)\n",
    "plt.plot(fpr,tpr)\n",
    "plt.xlim([0.0,1.0])\n",
    "plt.ylim([0.0,1.0])\n",
    "plt.title('ROC Curve')\n",
    "plt.xlabel('False Positive Rate (1-Specificity)')\n",
    "plt.ylabel('True Positive Rate (Sensitivity)')\n",
    "plt.grid(True)\n",
    "\n",
    "#ROC Area under the curve\n",
    "#print(\"Area under the curve class 1: \", roc_auc_score(y_sm, class1_prob))\n",
    "#print(\"Area under the curve class 0: \", roc_auc_score(y_sm, class0_prob))\n",
    "score1 = cross_val_score(nb, X_sm, y_sm, cv=10, scoring='roc_auc').mean()\n",
    "print(\"ROC AUC score: \",score1)\n",
    "\n",
    "\n",
    "\n",
    "\n",
    "\n",
    "\n",
    "###############################################################\n",
    "lr_confusion_cv = metrics.confusion_matrix(y_sm, lr_predict)\n",
    "lr_TP1 = lr_confusion_cv[1,1]\n",
    "lr_TN1 = lr_confusion_cv[0,0]\n",
    "lr_FP1 = lr_confusion_cv[0,1]\n",
    "lr_FN1 = lr_confusion_cv[1,0]\n",
    "\n",
    "\n",
    "class_names = [0,1]\n",
    "plt.figure()\n",
    "plot_confusion_matrix(lr_confusion_cv , classes=class_names, title='LR Confusion matrix with CV')\n",
    "plt.show()\n",
    "\n",
    "\n",
    "#Classification accuracy\n",
    "#print(\"Classification accuracy: \",(lr_TP1+lr_TN1)/(lr_TP1+lr_TN1+lr_FP1+lr_FN1))\n",
    "print(\"Classification accuracy     : \",metrics.accuracy_score(y_sm, lr_predict))\n",
    "\n",
    "#Classification error or misclassification rate\n",
    "#print(\"Classification error: \", (lr_FP1+lr_FN1)/(lr_TP1+lr_TN1+lr_FP1+lr_FN1))\n",
    "print(\"Classification error        : \",1-metrics.accuracy_score(y_sm, lr_predict))\n",
    "\n",
    "#Specificity: Actual value negative, how often prediction correct?\n",
    "print(\"Specificity                 : \",(lr_TN1)/(lr_TN1+lr_FP1))\n",
    "\n",
    "#False Positive rate: Actual value negative, how often prediction incorrect?\n",
    "print(\"False Positive rate         : \",(lr_FP1)/(lr_TN1+lr_FP1))\n",
    "\n",
    "#Sensitivity or Recall or True positive rate: Actual value positive, how often prediction correct?\n",
    "#print(\"Recall or True positive rate: \",(lr_TP1)/(lr_TP1+lr_FN1))\n",
    "print(\"Recall or True positive rate: \",metrics.recall_score(y_sm, lr_predict, average=None))\n",
    "\n",
    "#Precision: Predicted value is positive, how often prediction correct?\n",
    "#print(\"Precision: \",(lr_TP1)/(lr_TP1+lr_FP1))\n",
    "print(\"Precision                   : \",metrics.precision_score(y_sm, lr_predict, average=None))\n",
    "\n",
    "#F1 Score:\n",
    "print(\"F1 score                    : \",f1_score(y_sm, lr_predict, average=None))\n",
    "\n",
    "print('\\n')\n",
    "###############################################################\n",
    "#ROC Curve\n",
    "print('--------ROC Curve---------')\n",
    "#Prediction probability classwise\n",
    "lr_class1_prob = nb.predict_proba(X_sm)[:,1:2]\n",
    "lr_class0_prob = nb.predict_proba(X_sm)[:,0:1]\n",
    "\n",
    "lr_fpr, lr_tpr, lr_thresholds = metrics.roc_curve(y_sm, lr_predict)\n",
    "plt.plot(lr_fpr,lr_tpr)\n",
    "plt.xlim([0.0,1.0])\n",
    "plt.ylim([0.0,1.0])\n",
    "plt.title('ROC Curve')\n",
    "plt.xlabel('False Positive Rate (1-Specificity)')\n",
    "plt.ylabel('True Positive Rate (Sensitivity)')\n",
    "plt.grid(True)\n",
    "\n"
   ]
  },
  {
   "cell_type": "code",
   "execution_count": null,
   "metadata": {},
   "outputs": [],
   "source": [
    "#ROC Area under the curve\n",
    "#print(\"Area under the curve class 1: \", roc_auc_score(y_sm, class1_prob))\n",
    "#print(\"Area under the curve class 0: \", roc_auc_score(y_sm, class0_prob))\n",
    "lr_score1 = cross_val_score(clf, X_sm, y_sm, cv=10, scoring='roc_auc').mean()\n",
    "print(\"ROC AUC score: \",lr_score1)"
   ]
  },
  {
   "cell_type": "code",
   "execution_count": null,
   "metadata": {},
   "outputs": [],
   "source": []
  },
  {
   "cell_type": "code",
   "execution_count": null,
   "metadata": {},
   "outputs": [],
   "source": []
  },
  {
   "cell_type": "code",
   "execution_count": null,
   "metadata": {},
   "outputs": [],
   "source": []
  },
  {
   "cell_type": "code",
   "execution_count": null,
   "metadata": {},
   "outputs": [],
   "source": []
  },
  {
   "cell_type": "code",
   "execution_count": null,
   "metadata": {},
   "outputs": [],
   "source": []
  },
  {
   "cell_type": "code",
   "execution_count": null,
   "metadata": {},
   "outputs": [],
   "source": []
  },
  {
   "cell_type": "code",
   "execution_count": null,
   "metadata": {},
   "outputs": [],
   "source": []
  },
  {
   "cell_type": "code",
   "execution_count": null,
   "metadata": {},
   "outputs": [],
   "source": []
  },
  {
   "cell_type": "code",
   "execution_count": null,
   "metadata": {},
   "outputs": [],
   "source": []
  },
  {
   "cell_type": "code",
   "execution_count": null,
   "metadata": {},
   "outputs": [],
   "source": []
  },
  {
   "cell_type": "code",
   "execution_count": null,
   "metadata": {},
   "outputs": [],
   "source": []
  },
  {
   "cell_type": "code",
   "execution_count": null,
   "metadata": {},
   "outputs": [],
   "source": []
  },
  {
   "cell_type": "code",
   "execution_count": null,
   "metadata": {},
   "outputs": [],
   "source": []
  },
  {
   "cell_type": "code",
   "execution_count": null,
   "metadata": {},
   "outputs": [],
   "source": []
  },
  {
   "cell_type": "code",
   "execution_count": null,
   "metadata": {},
   "outputs": [],
   "source": []
  },
  {
   "cell_type": "code",
   "execution_count": null,
   "metadata": {},
   "outputs": [],
   "source": []
  },
  {
   "cell_type": "code",
   "execution_count": 120,
   "metadata": {},
   "outputs": [],
   "source": [
    "#Creating variable for ML input, Naive Bayes, Accuracy\n",
    "y=df.overall\n",
    "X=tfidf_token\n",
    "X_train, X_test, y_train, y_test = train_test_split(X, y, test_size=0.20, random_state=42)\n",
    "clf = naive_bayes.MultinomialNB()\n",
    "clf.fit(X_train, y_train)\n",
    "y_pred_class = clf.predict(X_test)"
   ]
  },
  {
   "cell_type": "code",
   "execution_count": 122,
   "metadata": {},
   "outputs": [
    {
     "data": {
      "text/plain": [
       "0.8584104046242774"
      ]
     },
     "execution_count": 122,
     "metadata": {},
     "output_type": "execute_result"
    }
   ],
   "source": [
    "#Calculate accuracy with oversampling\n",
    "metrics.accuracy_score(y_test, y_pred_class)"
   ]
  },
  {
   "cell_type": "code",
   "execution_count": null,
   "metadata": {},
   "outputs": [],
   "source": [
    "roc_auc_score(y_test, clf.predict_proba(X_test)[:,1])"
   ]
  },
  {
   "cell_type": "code",
   "execution_count": 128,
   "metadata": {},
   "outputs": [
    {
     "data": {
      "text/plain": [
       "0.8583815028901735"
      ]
     },
     "execution_count": 128,
     "metadata": {},
     "output_type": "execute_result"
    }
   ],
   "source": [
    "max(y_test.mean(), 1-y_test.mean())"
   ]
  },
  {
   "cell_type": "code",
   "execution_count": 140,
   "metadata": {},
   "outputs": [
    {
     "name": "stdout",
     "output_type": "stream",
     "text": [
      "True [1 1 1 1 1 1 0 1 1 1 0 1 1 1 1 1 1 1 1 1 0 1 1 1 1 1 1 1 1 1 1 1 1 1 1 1 1\n",
      " 1 1 1]\n",
      "Pred [1 1 1 1 1 1 1 1 1 1 1 1 1 1 1 1 1 1 1 1 1 1 1 1 1 1 1 1 1 1 1 1 1 1 1 1 1\n",
      " 1 1 1]\n"
     ]
    }
   ],
   "source": [
    "print (\"True\", y_test.values[0:40])\n",
    "print (\"Pred\", y_pred_class[0:40])"
   ]
  },
  {
   "cell_type": "code",
   "execution_count": null,
   "metadata": {},
   "outputs": [],
   "source": []
  },
  {
   "cell_type": "code",
   "execution_count": null,
   "metadata": {},
   "outputs": [],
   "source": []
  },
  {
   "cell_type": "code",
   "execution_count": null,
   "metadata": {},
   "outputs": [],
   "source": []
  },
  {
   "cell_type": "code",
   "execution_count": null,
   "metadata": {},
   "outputs": [],
   "source": []
  },
  {
   "cell_type": "code",
   "execution_count": null,
   "metadata": {},
   "outputs": [],
   "source": []
  },
  {
   "cell_type": "code",
   "execution_count": null,
   "metadata": {},
   "outputs": [],
   "source": []
  },
  {
   "cell_type": "code",
   "execution_count": 24,
   "metadata": {},
   "outputs": [
    {
     "name": "stdout",
     "output_type": "stream",
     "text": [
      "1    148657\n",
      "0    148657\n",
      "Name: overall, dtype: int64\n"
     ]
    },
    {
     "data": {
      "image/png": "[encoded data removed]",
      "text/plain": [
       "<Figure size 1152x576 with 1 Axes>"
      ]
     },
     "metadata": {},
     "output_type": "display_data"
    }
   ],
   "source": [
    "#Over Sampling\n",
    "# Class count\n",
    "count_class_1, count_class_0 = df.overall.value_counts()\n",
    "\n",
    "# Divide by class\n",
    "df_class_0 = df[df['overall'] == 0]\n",
    "df_class_1 = df[df['overall'] == 1]\n",
    "\n",
    "#Random over-sampling:\n",
    "df_class_0_over = df_class_0.sample(count_class_1, replace=True)\n",
    "df_test_over = pd.concat([df_class_1, df_class_0_over], axis=0)\n",
    "\n",
    "print(df_test_over.overall.value_counts())\n",
    "\n",
    "df_test_over.overall.value_counts().plot(kind='bar', title='Count (overall)');"
   ]
  },
  {
   "cell_type": "code",
   "execution_count": 85,
   "metadata": {},
   "outputs": [
    {
     "data": {
      "text/html": [
       "<div>\n",
       "<style scoped>\n",
       "    .dataframe tbody tr th:only-of-type {\n",
       "        vertical-align: middle;\n",
       "    }\n",
       "\n",
       "    .dataframe tbody tr th {\n",
       "        vertical-align: top;\n",
       "    }\n",
       "\n",
       "    .dataframe thead th {\n",
       "        text-align: right;\n",
       "    }\n",
       "</style>\n",
       "<table border=\"1\" class=\"dataframe\">\n",
       "  <thead>\n",
       "    <tr style=\"text-align: right;\">\n",
       "      <th></th>\n",
       "      <th>asin</th>\n",
       "      <th>nohtml</th>\n",
       "      <th>overall</th>\n",
       "      <th>#nohtml</th>\n",
       "      <th>tokenized</th>\n",
       "    </tr>\n",
       "  </thead>\n",
       "  <tbody>\n",
       "    <tr>\n",
       "      <th>0</th>\n",
       "      <td>120401325X</td>\n",
       "      <td>look good stick good! dont like round shape bu...</td>\n",
       "      <td>1</td>\n",
       "      <td>17</td>\n",
       "      <td>[look, good, stick, good, !, dont, like, round...</td>\n",
       "    </tr>\n",
       "    <tr>\n",
       "      <th>1</th>\n",
       "      <td>120401325X</td>\n",
       "      <td>sticker work like review say stick great stay ...</td>\n",
       "      <td>1</td>\n",
       "      <td>14</td>\n",
       "      <td>[sticker, work, like, review, say, stick, grea...</td>\n",
       "    </tr>\n",
       "    <tr>\n",
       "      <th>2</th>\n",
       "      <td>120401325X</td>\n",
       "      <td>awesom make phone look stylish! use one far ye...</td>\n",
       "      <td>1</td>\n",
       "      <td>15</td>\n",
       "      <td>[awesom, make, phone, look, stylish, !, use, o...</td>\n",
       "    </tr>\n",
       "    <tr>\n",
       "      <th>3</th>\n",
       "      <td>120401325X</td>\n",
       "      <td>item arriv great time perfect condit order but...</td>\n",
       "      <td>1</td>\n",
       "      <td>25</td>\n",
       "      <td>[item, arriv, great, time, perfect, condit, or...</td>\n",
       "    </tr>\n",
       "    <tr>\n",
       "      <th>4</th>\n",
       "      <td>120401325X</td>\n",
       "      <td>awesome! stay look great use multipl appl prod...</td>\n",
       "      <td>1</td>\n",
       "      <td>14</td>\n",
       "      <td>[awesome, !, stay, look, great, use, multipl, ...</td>\n",
       "    </tr>\n",
       "  </tbody>\n",
       "</table>\n",
       "</div>"
      ],
      "text/plain": [
       "         asin                                             nohtml  overall  \\\n",
       "0  120401325X  look good stick good! dont like round shape bu...        1   \n",
       "1  120401325X  sticker work like review say stick great stay ...        1   \n",
       "2  120401325X  awesom make phone look stylish! use one far ye...        1   \n",
       "3  120401325X  item arriv great time perfect condit order but...        1   \n",
       "4  120401325X  awesome! stay look great use multipl appl prod...        1   \n",
       "\n",
       "   #nohtml                                          tokenized  \n",
       "0       17  [look, good, stick, good, !, dont, like, round...  \n",
       "1       14  [sticker, work, like, review, say, stick, grea...  \n",
       "2       15  [awesom, make, phone, look, stylish, !, use, o...  \n",
       "3       25  [item, arriv, great, time, perfect, condit, or...  \n",
       "4       14  [awesome, !, stay, look, great, use, multipl, ...  "
      ]
     },
     "execution_count": 85,
     "metadata": {},
     "output_type": "execute_result"
    }
   ],
   "source": [
    "df_test_over = df_test_over[['asin','nohtml','overall','#nohtml','tokenized']].copy()\n",
    "df_test_over.head(5)"
   ]
  },
  {
   "cell_type": "code",
   "execution_count": 77,
   "metadata": {},
   "outputs": [
    {
     "name": "stdout",
     "output_type": "stream",
     "text": [
      "  (0, 1103721)\t0.058203660232363924\n",
      "  (0, 810439)\t0.11603725678745876\n",
      "  (0, 1793068)\t0.1024557401400026\n",
      "  (0, 0)\t0.056072626568895965\n",
      "  (0, 592128)\t0.06388167081904063\n",
      "  (0, 1073019)\t0.1032351191991048\n",
      "  (0, 1605059)\t0.13794482638736832\n",
      "  (0, 1674469)\t0.12799370533176851\n",
      "  (0, 312176)\t0.13251266008149656\n",
      "  (0, 1704651)\t0.16682451205002835\n",
      "  (0, 1019791)\t0.11540850242747758\n",
      "  (0, 1427183)\t0.11753274359031417\n",
      "  (0, 988084)\t0.1574362925014124\n",
      "  (0, 2087503)\t0.09147741362205489\n",
      "  (0, 320439)\t0.06826925281248787\n",
      "  (0, 1471522)\t0.060832432129427745\n",
      "  (0, 1105386)\t0.11577247138854446\n",
      "  (0, 814176)\t0.23500578792185484\n",
      "  (0, 1793525)\t0.21607526600342525\n",
      "  (0, 810440)\t0.16368801382845724\n",
      "  (0, 1310)\t0.14758978243844922\n",
      "  (0, 593299)\t0.1211319082548986\n",
      "  (0, 1078536)\t0.22529576247819066\n",
      "  (0, 1605399)\t0.23734016733344845\n",
      "  (0, 1674564)\t0.2860221217065537\n",
      "  :\t:\n",
      "  (297313, 2057205)\t0.08672791710816112\n",
      "  (297313, 2102565)\t0.13733179774206306\n",
      "  (297313, 411365)\t0.10963600668725122\n",
      "  (297313, 1509204)\t0.15190534544988693\n",
      "  (297313, 1666074)\t0.14222318873952283\n",
      "  (297313, 1150645)\t0.10631091710802541\n",
      "  (297313, 1502988)\t0.12278286982435738\n",
      "  (297313, 1666331)\t0.16365931025351635\n",
      "  (297313, 1262873)\t0.11553374331019514\n",
      "  (297313, 251968)\t0.1509192101111955\n",
      "  (297313, 1190834)\t0.14980389767431407\n",
      "  (297313, 577145)\t0.17049659988047283\n",
      "  (297313, 812315)\t0.16002675882039402\n",
      "  (297313, 590598)\t0.22285024478013232\n",
      "  (297313, 1091)\t0.21878889937863577\n",
      "  (297313, 489789)\t0.19632835108316718\n",
      "  (297313, 1151879)\t0.22618864994159107\n",
      "  (297313, 432619)\t0.20472550657540298\n",
      "  (297313, 3530)\t0.2460975374354974\n",
      "  (297313, 924538)\t0.19998177027194847\n",
      "  (297313, 2103892)\t0.2024145624966264\n",
      "  (297313, 411366)\t0.22568115324761123\n",
      "  (297313, 1503373)\t0.2691537379375936\n",
      "  (297313, 2057616)\t0.25486001733857555\n",
      "  (297313, 577302)\t0.2691537379375936\n"
     ]
    }
   ],
   "source": [
    "#TF-IDF on tokenized clean review after oversampling\n",
    "def dummy_fun(doc):\n",
    "    return doc\n",
    "\n",
    "over_tfidf = TfidfVectorizer(\n",
    "    analyzer='word',\n",
    "    tokenizer=dummy_fun,\n",
    "    preprocessor=dummy_fun,\n",
    "    token_pattern=None,\n",
    "    ngram_range=(1,2))  \n",
    "\n",
    "over_tfidf_token = over_tfidf.fit_transform(df_test_over['tokenized'])\n",
    "print(over_tfidf_token)"
   ]
  },
  {
   "cell_type": "code",
   "execution_count": null,
   "metadata": {},
   "outputs": [],
   "source": [
    "#knowing what are the actual features represented by the tf-idf word representation after oversampling\n",
    "over_features = over_tfidf.get_feature_names()\n",
    "\n",
    "#get the list of top tf-idf features with the values \n",
    "\n",
    "def over_top_tfidf_feat(row,over_features,top_n):\n",
    "    topn_ids = np.argsort(row)[::-1][:top_n]\n",
    "    top_feats = [(over_features[i],row[i]) for i in topn_ids]\n",
    "    df = pd.DataFrame(top_feats)\n",
    "    df.columns = ['feature','tfidf']\n",
    "    return df \n",
    "\n",
    "\n",
    "over_top_tfidf1 = over_top_tfidf_feat(over_tfidf_token[0,:].toarray()[0],over_features,5000)\n",
    "print(over_top_tfidf1)"
   ]
  },
  {
   "cell_type": "code",
   "execution_count": 165,
   "metadata": {},
   "outputs": [],
   "source": [
    "#Over sampling and Creating variable for ML input, Naive Bayes, Accuracy\n",
    "y_over=df_test_over.overall\n",
    "X_over=over_tfidf_token\n",
    "X_train_over, X_test_over, y_train_over, y_test_over = train_test_split(X_over, y_over, test_size=0.20, random_state=42)\n",
    "clf_over = naive_bayes.MultinomialNB()\n",
    "clf_over.fit(X_train_over, y_train_over)\n",
    "y_pred_class_over = clf_over.predict(X_test_over)"
   ]
  },
  {
   "cell_type": "code",
   "execution_count": 166,
   "metadata": {},
   "outputs": [
    {
     "data": {
      "text/plain": [
       "0.9505406723508737"
      ]
     },
     "execution_count": 166,
     "metadata": {},
     "output_type": "execute_result"
    }
   ],
   "source": [
    "#Calculate accuracy after oversampling\n",
    "metrics.accuracy_score(y_test_over, y_pred_class_over)"
   ]
  },
  {
   "cell_type": "code",
   "execution_count": 105,
   "metadata": {},
   "outputs": [
    {
     "data": {
      "text/plain": [
       "0.9933675409743128"
      ]
     },
     "execution_count": 105,
     "metadata": {},
     "output_type": "execute_result"
    }
   ],
   "source": [
    "roc_auc_score(y_test_over, clf_over.predict_proba(X_test_over)[:,1])"
   ]
  },
  {
   "cell_type": "code",
   "execution_count": 125,
   "metadata": {},
   "outputs": [
    {
     "data": {
      "text/plain": [
       "0    29904\n",
       "1    29559\n",
       "Name: overall, dtype: int64"
      ]
     },
     "execution_count": 125,
     "metadata": {},
     "output_type": "execute_result"
    }
   ],
   "source": [
    "y_test_over.value_counts()"
   ]
  },
  {
   "cell_type": "code",
   "execution_count": 127,
   "metadata": {},
   "outputs": [
    {
     "data": {
      "text/plain": [
       "0.5029009636244387"
      ]
     },
     "execution_count": 127,
     "metadata": {},
     "output_type": "execute_result"
    }
   ],
   "source": [
    "max(y_test_over.mean(), 1-y_test_over.mean())"
   ]
  },
  {
   "cell_type": "code",
   "execution_count": 80,
   "metadata": {},
   "outputs": [
    {
     "data": {
      "text/plain": [
       "count    297314.000000\n",
       "mean          0.500000\n",
       "std           0.500001\n",
       "min           0.000000\n",
       "25%           0.000000\n",
       "50%           0.500000\n",
       "75%           1.000000\n",
       "max           1.000000\n",
       "Name: overall, dtype: float64"
      ]
     },
     "execution_count": 80,
     "metadata": {},
     "output_type": "execute_result"
    }
   ],
   "source": [
    "df_test_over.describe()['overall']"
   ]
  },
  {
   "cell_type": "code",
   "execution_count": 81,
   "metadata": {},
   "outputs": [
    {
     "name": "stdout",
     "output_type": "stream",
     "text": [
      "No of Nan values in our dataframe :  0\n"
     ]
    }
   ],
   "source": [
    "# just to make sure that all Nan containing rows are deleted..\n",
    "print(\"No of Nan values in our dataframe : \", sum(df_test_over.isnull().any()))"
   ]
  },
  {
   "cell_type": "code",
   "execution_count": 142,
   "metadata": {},
   "outputs": [
    {
     "name": "stdout",
     "output_type": "stream",
     "text": [
      "True [0 1 0 0 0 1 0 0 0 0 1 1 0 0 0 1 0 1 1 1 1 0 0 0 1 1 0 0 1 1 0 0 1 1 1 0 1\n",
      " 1 1 0 0 0 1 1 1 0 0 1 1 0]\n",
      "Pred [0 0 0 0 0 1 0 0 0 0 1 1 0 0 0 1 0 1 1 1 1 0 0 0 1 1 0 0 1 0 0 0 1 1 1 0 1\n",
      " 0 1 0 0 0 0 1 1 0 0 1 1 0]\n"
     ]
    }
   ],
   "source": [
    "print (\"True\", y_test_over.values[0:50])\n",
    "print (\"Pred\", y_pred_class_over[0:50])"
   ]
  },
  {
   "cell_type": "code",
   "execution_count": 148,
   "metadata": {},
   "outputs": [
    {
     "name": "stdout",
     "output_type": "stream",
     "text": [
      "[[29385   519]\n",
      " [ 2422 27137]]\n"
     ]
    }
   ],
   "source": [
    "#Confusion metrics\n",
    "confusion = metrics.confusion_matrix(y_test_over, y_pred_class_over)\n",
    "TP = confusion[1,1]\n",
    "TN = confusion[0,0]\n",
    "FP = confusion[0,1]\n",
    "FN = confusion[1,0]\n",
    "print (confusion)"
   ]
  },
  {
   "cell_type": "code",
   "execution_count": 158,
   "metadata": {},
   "outputs": [
    {
     "name": "stdout",
     "output_type": "stream",
     "text": [
      "Classification accuracy:  0.9505406723508737\n",
      "Classification accuracy:  0.9505406723508737\n",
      "Classification error:  0.04945932764912635\n",
      "Classification error:  0.049459327649126306\n",
      "Recall or True positive rate:  0.9180621807232991\n",
      "Recall or True positive rate:  0.9180621807232991\n",
      "Specificity:  0.9826444622792937\n",
      "False Positive rate:  0.01735553772070626\n",
      "Precision:  0.9812337286664738\n"
     ]
    }
   ],
   "source": [
    "#Classification accuracy\n",
    "print(\"Classification accuracy: \",(TP+TN)/(TP+TN+FP+FN))\n",
    "print(\"Classification accuracy: \",metrics.accuracy_score(y_test_over, y_pred_class_over))\n",
    "\n",
    "#Classification error or misclassification rate\n",
    "print(\"Classification error: \", (FP+FN)/(TP+TN+FP+FN))\n",
    "print(\"Classification error: \",1-metrics.accuracy_score(y_test_over, y_pred_class_over))\n",
    "\n",
    "#Sensitivity or Recall or True positive rate: Actual value positive, how often prediction correct?\n",
    "print(\"Recall or True positive rate: \",(TP)/(TP+FN))\n",
    "print(\"Recall or True positive rate: \",metrics.recall_score(y_test_over, y_pred_class_over))\n",
    "\n",
    "#Specificity: Actual value negative, how often prediction correct?\n",
    "print(\"Specificity: \",(TN)/(TN+FP))\n",
    "\n",
    "#False Positive rate: Actual value negative, how often prediction incorrect?\n",
    "print(\"False Positive rate: \",(FP)/(TN+FP))\n",
    "\n",
    "#Precision: Predicted value is positive, how often prediction correct?\n",
    "print(\"Precision: \",(TP)/(TP+FP))"
   ]
  },
  {
   "cell_type": "code",
   "execution_count": null,
   "metadata": {},
   "outputs": [],
   "source": []
  },
  {
   "cell_type": "code",
   "execution_count": null,
   "metadata": {},
   "outputs": [],
   "source": []
  },
  {
   "cell_type": "code",
   "execution_count": null,
   "metadata": {},
   "outputs": [],
   "source": []
  },
  {
   "cell_type": "code",
   "execution_count": null,
   "metadata": {},
   "outputs": [],
   "source": []
  },
  {
   "cell_type": "code",
   "execution_count": null,
   "metadata": {},
   "outputs": [],
   "source": []
  },
  {
   "cell_type": "code",
   "execution_count": null,
   "metadata": {},
   "outputs": [],
   "source": []
  },
  {
   "cell_type": "code",
   "execution_count": null,
   "metadata": {},
   "outputs": [],
   "source": []
  },
  {
   "cell_type": "code",
   "execution_count": null,
   "metadata": {},
   "outputs": [],
   "source": []
  },
  {
   "cell_type": "code",
   "execution_count": null,
   "metadata": {},
   "outputs": [],
   "source": []
  },
  {
   "cell_type": "code",
   "execution_count": null,
   "metadata": {},
   "outputs": [],
   "source": []
  },
  {
   "cell_type": "code",
   "execution_count": null,
   "metadata": {},
   "outputs": [],
   "source": []
  },
  {
   "cell_type": "code",
   "execution_count": null,
   "metadata": {},
   "outputs": [],
   "source": []
  }
 ],
 "metadata": {
  "kernelspec": {
   "display_name": "Python 3",
   "language": "python",
   "name": "python3"
  },
  "language_info": {
   "codemirror_mode": {
    "name": "ipython",
    "version": 3
   },
   "file_extension": ".py",
   "mimetype": "text/x-python",
   "name": "python",
   "nbconvert_exporter": "python",
   "pygments_lexer": "ipython3",
   "version": "3.6.5"
  }
 },
 "nbformat": 4,
 "nbformat_minor": 2
}
